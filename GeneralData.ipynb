{
 "cells": [
  {
   "cell_type": "code",
   "execution_count": null,
   "metadata": {},
   "outputs": [],
   "source": [
    "import requests \n",
    "from bs4 import BeautifulSoup \n",
    "\n",
    "\n",
    "def addUrls(url, listUrl): \n",
    "    #open with GET method \n",
    "    resp=requests.get(url)         \n",
    "    if resp.status_code==200: \n",
    "        print(\"Successfully opened the web page\") \n",
    "        listUrl.append(url)\n",
    "    else:\n",
    "        print(\"Did not work\")\n",
    "    soup=BeautifulSoup(resp.text,'html.parser')\n",
    "    l=soup.find(\"a\",{\"class\":\"_2glka\"})   #_2glka has to be adjusted based on website  \n",
    "    if (l.get('href') == \"\"):\n",
    "        print('Done adding')\n",
    "    else:                \n",
    "        addUrls(l.get('href'), listUrl) \n",
    "\n",
    "\n",
    "\n"
   ]
  },
  {
   "cell_type": "code",
   "execution_count": null,
   "metadata": {},
   "outputs": [],
   "source": [
    "url='https://www.apartmentguide.com/apartments/Ohio/Dayton/?WT.mc_id=21000&gclid=Cj0KCQjws5HlBRDIARIsAOomqA1pP7zIojO_5sRmhgPWEX1pbm_qIdlzgtOgyk2fIQFgbeB5jP695hoaAlGJEALw_wcB'\n",
    "listUrl = []\n",
    "addUrls(url, listUrl)"
   ]
  },
  {
   "cell_type": "code",
   "execution_count": null,
   "metadata": {},
   "outputs": [],
   "source": [
    "print(listUrl)"
   ]
  },
  {
   "cell_type": "code",
   "execution_count": null,
   "metadata": {},
   "outputs": [],
   "source": [
    "### Some apartments do not have ratings, in this case, NA\n",
    "\n",
    "\n",
    "def searchApartmentProperties(url, f):\n",
    "    global oneTime\n",
    "    resp=requests.get(url)         \n",
    "    if resp.status_code==200: \n",
    "        print(\"Successfully opened the web page\") \n",
    "    else:\n",
    "        print(\"Did not work\")\n",
    "    soup=BeautifulSoup(resp.text,'html.parser')\n",
    "    l2=soup.findAll(\"div\",{\"data-tid\":\"listing-info\"})\n",
    "    if(oneTime):\n",
    "        for prop in l2[1].findAll('div'):\n",
    "            if(prop.get('data-tid')):\n",
    "                f.write(prop.get('data-tid')+'#')\n",
    "        oneTime = False\n",
    "        f.write('\\n')\n",
    "    index = 0\n",
    "    done = False\n",
    "    for listing in l2:    \n",
    "        for i in listing.findAll('div'):\n",
    "            #ulaText column is missing or ratings column is missing\n",
    "            if (index == 4 and i.get('data-tid')=='phone'):\n",
    "                f.write('NA'+'#'+'NA'+'#')\n",
    "            if ((index == 5 and done == False) and i.get('data-tid')=='phone'):\n",
    "                f.write('NA'+'#')                  \n",
    "            if (index == 4 and i.get('data-tid')=='ratings'):\n",
    "                f.write('NA'+'#')        \n",
    "                done = True\n",
    "     \n",
    "            \n",
    "            if(i.get('data-tid')):\n",
    "                print(i.get('data-tid'))\n",
    "                print(i.text)\n",
    "                f.write(i.text+'#')\n",
    "                index = index + 1\n",
    "        done = False\n",
    "        index = 0\n",
    "        print()\n",
    "        f.write('\\n')"
   ]
  },
  {
   "cell_type": "code",
   "execution_count": null,
   "metadata": {},
   "outputs": [],
   "source": [
    "i = 1\n",
    "f = open(\"test.txt\", \"a\")\n",
    "oneTime = True\n",
    "for url in listUrl:\n",
    "    print('page %.f'%i)  \n",
    "    searchApartmentProperties(url, f)   \n",
    "    i = i + 1\n",
    "f.close()"
   ]
  },
  {
   "cell_type": "code",
   "execution_count": null,
   "metadata": {},
   "outputs": [],
   "source": [
    "def deleteChar(inputFile, outputFile, myChar):\n",
    "    with open(inputFile, \"rt\") as fin:\n",
    "        with open(outputFile, \"wt\") as fout:\n",
    "            for line in fin:\n",
    "                fout.write(line.replace(myChar, ''))"
   ]
  },
  {
   "cell_type": "code",
   "execution_count": null,
   "metadata": {},
   "outputs": [],
   "source": [
    "import os\n",
    "deleteChar('test.txt', 'subList.txt', '(')\n",
    "deleteChar('subList.txt', 'finalList.txt', ')')\n",
    "os.remove(\"subList.txt\")"
   ]
  },
  {
   "cell_type": "code",
   "execution_count": null,
   "metadata": {},
   "outputs": [],
   "source": [
    "import csv\n",
    "\n",
    "with open('finalList.txt', 'r') as infile, open('final.csv', 'w') as outfile:\n",
    "    stripped = (line.strip() for line in infile)\n",
    "    lines = (line.split(\"#\") for line in stripped if line)\n",
    "    writer = csv.writer(outfile)\n",
    "    writer.writerows(lines)"
   ]
  }
 ],
 "metadata": {
  "kernelspec": {
   "display_name": "Python 3",
   "language": "python",
   "name": "python3"
  },
  "language_info": {
   "codemirror_mode": {
    "name": "ipython",
    "version": 3
   },
   "file_extension": ".py",
   "mimetype": "text/x-python",
   "name": "python",
   "nbconvert_exporter": "python",
   "pygments_lexer": "ipython3",
   "version": "3.6.5"
  }
 },
 "nbformat": 4,
 "nbformat_minor": 2
}
